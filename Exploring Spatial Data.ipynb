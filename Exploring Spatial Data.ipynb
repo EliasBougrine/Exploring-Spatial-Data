{
 "cells": [
  {
   "cell_type": "markdown",
   "metadata": {},
   "source": [
    "# EXPLORING SPATIAL DATA"
   ]
  },
  {
   "cell_type": "markdown",
   "metadata": {},
   "source": [
    "---\n",
    "# Introduction\n",
    "\n",
    "In this project, we explore the use cases for spatial data analysis."
   ]
  },
  {
   "cell_type": "code",
   "execution_count": 1,
   "metadata": {},
   "outputs": [],
   "source": [
    "from shapely.geometry import Polygon, Point, LineString"
   ]
  },
  {
   "cell_type": "markdown",
   "metadata": {},
   "source": [
    "---\n",
    "# Part I - Explore shapely\n",
    "\n",
    "See https://shapely.readthedocs.io/en/stable/manual.html for details, especially for the chapter Polygons, LineStrings, and Spatial Analysis Methods."
   ]
  },
  {
   "cell_type": "code",
   "execution_count": 2,
   "metadata": {},
   "outputs": [],
   "source": [
    "def create_polygons(boundary_coords):\n",
    "    poly = Polygon(boundary_coords)\n",
    "    return poly\n",
    "\n",
    "\n",
    "\n",
    "def calculate_areas_of_intersection(poly1, poly2):   \n",
    "    \"\"\"\n",
    "    1. find the intersection of two polygons\n",
    "    2. calculate the area of the intersection(s)\n",
    "    \"\"\"\n",
    "    i = poly1.intersection(poly2)\n",
    "    return i.area\n",
    "    \n",
    "    \n",
    "\n",
    "def calculate_areas_of_union(poly1, poly2):\n",
    "    \"\"\"\n",
    "    1. find the union of two polygons\n",
    "    2. calculate the area of the union(s)\n",
    "    \"\"\"\n",
    "    u = poly1.union(poly2)\n",
    "    return u.area\n",
    "    \n",
    "     \n",
    "\n",
    "def create_line_strings(ls_coords):\n",
    "    return LineString(ls_coords)\n",
    "\n",
    "\n",
    "\n",
    "def check_intersect_of_ls(ls1, ls2):\n",
    "    \"\"\"\n",
    "    return True if two line strings intersect\n",
    "    return False otherwise\n",
    "    \"\"\" \n",
    "    l1 = create_line_strings(ls1)\n",
    "    l2 = create_line_strings(ls2)\n",
    "    i = l1.intersection(l2)\n",
    "    if i != 0:\n",
    "        return True\n",
    "    else:\n",
    "        return False\n",
    "    "
   ]
  },
  {
   "cell_type": "code",
   "execution_count": 3,
   "metadata": {},
   "outputs": [],
   "source": [
    "boundary_poly1 = [(26.28843, -81.2289),(26.28758, -81.20704),(26.25265, -81.17424),(26.10507, -81.05399),(26.07176, -81.05371),(25.96929, -81.05366),(25.93087, -81.09241),(25.89438, -81.13046),(25.85724, -81.21336),(25.85678, -81.23206),(25.85678, -81.26908),(25.85747, -81.30706),(25.89316, -81.35036),(25.97398, -81.4368),(26.13718, -81.4368),(26.2164 ,-81.34938),(26.23962, -81.32186),(26.2519 ,-81.30656),(26.28843, -81.2289)]\n",
    "boundary_poly2 = [(26.39642, -80.33508),(26.35857, -80.21314),(26.3348 ,-80.21249),(26.29274, -80.21259),(26.14611, -80.25098),(26.11615, -80.289),(26.10832, -80.30208),(26.07566, -80.36576),(26.03664, -80.49353),(26.03635, -80.51376),(26.03639, -80.53557),(26.03675, -80.58669),(26.05827, -80.59536),(26.24977, -80.59516),(26.28015, -80.59478),(26.32421, -80.55287),(26.36002, -80.50745),(26.39595, -80.43837),(26.39642, -80.33508)]\n",
    "boundary_poly3 = [(26.6078 ,-80.37978),(26.56995, -80.25784),(26.54618, -80.25719),(26.50412, -80.25729),(26.35749, -80.29568),(26.32753, -80.33369),(26.31969, -80.34678),(26.28703, -80.41045),(26.24802, -80.53823),(26.24773, -80.55846),(26.24777, -80.58027),(26.24813, -80.63139),(26.26965, -80.64005),(26.46114, -80.63986),(26.49153, -80.63948),(26.53559, -80.59756),(26.5714 ,-80.55215),(26.60732, -80.48306),(26.6078 ,-80.37978)]\n",
    "coords_ls1 = [(39.1833, -76.7333),(39.2000, -76.8000),(39.2167, -76.8667),(39.2500, -76.9500),(39.2667, -77.0333),(39.3000, -77.1333),(39.3500, -77.2500),(39.3833, -77.3500),(39.4167, -77.4667),(39.4500, -77.5833),(39.4833, -77.7000),(39.5167, -77.8000),(39.5500, -77.9167),(39.5833, -78.0333),(39.6500, -78.2500),(39.7000, -78.3833),(39.7333, -78.5167),(39.7667, -78.6500),(39.8333, -78.7667),(39.8833, -78.9000),(39.9500, -79.0167),(40.0000, -79.1333),(40.0667, -79.2667),(40.1167, -79.3833),(40.1833, -79.5000),(40.2333, -79.6333),(40.3000, -79.7667),(40.3500, -79.9000),(40.4167, -80.0333),(40.4833, -80.1500),(40.5333, -80.2833),(40.6000, -80.4167),(40.6500, -80.5667),(40.7000, -80.7000),(40.7500, -80.8500),(40.8000, -80.9833),(40.8333, -81.1167),(40.8833, -81.2500),(40.9333, -81.3833)]\n",
    "coords_ls2 = [(38.767, -83.917),(38.700, -83.733),(38.650, -83.583),(38.583, -83.383),(38.517, -83.200),(38.450, -83.017),(38.383, -82.833),(38.317, -82.633),(38.250, -82.450),(38.183, -82.283),(38.050, -81.917),(37.983, -81.750),(37.933, -81.583),(37.867, -81.417),(37.800, -81.267),(37.733, -81.100),(37.667, -80.933),(37.617, -80.767),(37.550, -80.583),(37.483, -80.417),(37.417, -80.250),(37.350, -80.083),(37.267, -79.950),(37.183, -79.817),(37.100, -79.683),(37.000, -79.533),(36.917, -79.400),(36.833, -79.267),(36.767, -79.150),(36.683, -79.033),(36.617, -79.000),(36.550, -78.983),(36.467, -78.967),(36.400, -78.933),(36.333, -78.900),(36.283, -78.817),(36.233, -78.733),(36.183, -78.650),(36.150, -78.583),(36.100, -78.517),(36.067, -78.550),(36.000, -78.650),(35.967, -78.683),(35.933, -78.733),(35.900, -78.767)]"
   ]
  },
  {
   "cell_type": "code",
   "execution_count": 4,
   "metadata": {},
   "outputs": [],
   "source": [
    "poly1 = create_polygons(boundary_poly1)\n",
    "poly2 = create_polygons(boundary_poly2)\n",
    "poly3 = create_polygons(boundary_poly3)\n",
    "poly4 = Point((26.5,-80.5)).buffer(0.25)"
   ]
  },
  {
   "cell_type": "code",
   "execution_count": 5,
   "metadata": {},
   "outputs": [
    {
     "data": {
      "image/svg+xml": [
       "<svg xmlns=\"http://www.w3.org/2000/svg\" xmlns:xlink=\"http://www.w3.org/1999/xlink\" width=\"100.0\" height=\"100.0\" viewBox=\"25.839514 -81.45406600000001 0.4661819999999999 0.41767200000002447\" preserveAspectRatio=\"xMinYMin meet\"><g transform=\"matrix(1,0,0,-1,0,-162.49045999999998)\"><path fill-rule=\"evenodd\" fill=\"#66cc99\" stroke=\"#555555\" stroke-width=\"0.009323639999999998\" opacity=\"0.6\" d=\"M 26.28843,-81.2289 L 26.28758,-81.20704 L 26.25265,-81.17424 L 26.10507,-81.05399 L 26.07176,-81.05371 L 25.96929,-81.05366 L 25.93087,-81.09241 L 25.89438,-81.13046 L 25.85724,-81.21336 L 25.85678,-81.23206 L 25.85678,-81.26908 L 25.85747,-81.30706 L 25.89316,-81.35036 L 25.97398,-81.4368 L 26.13718,-81.4368 L 26.2164,-81.34938 L 26.23962,-81.32186 L 26.2519,-81.30656 L 26.28843,-81.2289 z\" /></g></svg>"
      ],
      "text/plain": [
       "<shapely.geometry.polygon.Polygon at 0x1f40624d048>"
      ]
     },
     "execution_count": 5,
     "metadata": {},
     "output_type": "execute_result"
    }
   ],
   "source": [
    "poly1"
   ]
  },
  {
   "cell_type": "code",
   "execution_count": 6,
   "metadata": {},
   "outputs": [],
   "source": [
    "ls1 = create_line_strings(coords_ls1)\n",
    "ls2 = create_line_strings(coords_ls2)"
   ]
  },
  {
   "cell_type": "code",
   "execution_count": 7,
   "metadata": {
    "scrolled": false
   },
   "outputs": [
    {
     "name": "stdout",
     "output_type": "stream",
     "text": [
      "0.0\n",
      "0.02593924931133175\n",
      "0.10779517711658397\n",
      "0.2331291194000023\n",
      "0.27697014244275203\n",
      "0.1981096331925395\n",
      "True\n"
     ]
    }
   ],
   "source": [
    "\"\"\"\n",
    "Some Examples\n",
    "\"\"\"\n",
    "print(calculate_areas_of_intersection(poly1, poly2))\n",
    "print(calculate_areas_of_intersection(poly2, poly3))\n",
    "print(calculate_areas_of_intersection(poly3, poly4))\n",
    "print(calculate_areas_of_union(poly1, poly2))\n",
    "print(calculate_areas_of_union(poly2, poly4))\n",
    "print(calculate_areas_of_union(poly3, poly4))\n",
    "print(check_intersect_of_ls(ls1, ls2))"
   ]
  },
  {
   "cell_type": "markdown",
   "metadata": {},
   "source": [
    "---\n",
    "# Part II - Explore geopandas\n",
    "\n",
    "In the US, the airspace is separated into 20 Air Route Traffic Control Centers (ARTCC) to manage the air traffic. For the purpose of analyzing how different air traffic control strategies affect the flights, we firstly need to know which ARTCCs a designated flight crossed (see figure below).\n",
    "\n",
    "<img  src= \"Image.JPG\" width = 650> \n",
    "\n",
    "Therefore, we have two set of files: \n",
    "- shape file of ARTCCs (artcc_cont.shp and all other supporting files)\n",
    "- track file for three flights (sample_tracks.csv)\n",
    "\n",
    "We will implement the function find_crossing_artcc() to find all ARTCCs that an input flight crossed. \n",
    "In the skeleton file, we  convert the ARTCC geometries into geopandas data frame artcc_df and load flight tracks into a pandas data frame tracks. \n",
    "\n",
    "In artcc_df, there are 2 columns – Name and geometry, and 20 rows, each of which indicates the geometry (polygon) of an ARTCC center. \n",
    "\n",
    "Tracks has 472 rows and 5 columns. Each row records only ONE track point (ACID, time, lat, lon, alt). Therefore, each flight is described by a collection of rows with the same ACID, which represents the flight identifier. "
   ]
  },
  {
   "cell_type": "code",
   "execution_count": 8,
   "metadata": {},
   "outputs": [],
   "source": [
    "import geopandas as gpd\n",
    "import pandas as pd\n",
    "import numpy as np"
   ]
  },
  {
   "cell_type": "code",
   "execution_count": 9,
   "metadata": {},
   "outputs": [],
   "source": [
    "artcc_df = gpd.GeoDataFrame.from_file('shp/artcc_cont.shp')[['Name', 'geometry']]\n",
    "tracks = pd.read_csv('shp/sample_tracks.csv', parse_dates=[1])"
   ]
  },
  {
   "cell_type": "code",
   "execution_count": 10,
   "metadata": {},
   "outputs": [
    {
     "data": {
      "text/html": [
       "<div>\n",
       "<style scoped>\n",
       "    .dataframe tbody tr th:only-of-type {\n",
       "        vertical-align: middle;\n",
       "    }\n",
       "\n",
       "    .dataframe tbody tr th {\n",
       "        vertical-align: top;\n",
       "    }\n",
       "\n",
       "    .dataframe thead th {\n",
       "        text-align: right;\n",
       "    }\n",
       "</style>\n",
       "<table border=\"1\" class=\"dataframe\">\n",
       "  <thead>\n",
       "    <tr style=\"text-align: right;\">\n",
       "      <th></th>\n",
       "      <th>Name</th>\n",
       "      <th>geometry</th>\n",
       "    </tr>\n",
       "  </thead>\n",
       "  <tbody>\n",
       "    <tr>\n",
       "      <th>0</th>\n",
       "      <td>ARTCC ZAB</td>\n",
       "      <td>POLYGON Z ((-111.841666667 35.76666666700004 0...</td>\n",
       "    </tr>\n",
       "    <tr>\n",
       "      <th>1</th>\n",
       "      <td>ARTCC ZAU</td>\n",
       "      <td>POLYGON Z ((-93.46666666699997 41.666666667000...</td>\n",
       "    </tr>\n",
       "    <tr>\n",
       "      <th>2</th>\n",
       "      <td>ARTCC ZNY</td>\n",
       "      <td>POLYGON Z ((-76.69722222199994 42.727777778000...</td>\n",
       "    </tr>\n",
       "  </tbody>\n",
       "</table>\n",
       "</div>"
      ],
      "text/plain": [
       "        Name                                           geometry\n",
       "0  ARTCC ZAB  POLYGON Z ((-111.841666667 35.76666666700004 0...\n",
       "1  ARTCC ZAU  POLYGON Z ((-93.46666666699997 41.666666667000...\n",
       "2  ARTCC ZNY  POLYGON Z ((-76.69722222199994 42.727777778000..."
      ]
     },
     "execution_count": 10,
     "metadata": {},
     "output_type": "execute_result"
    }
   ],
   "source": [
    "artcc_df.head(3)"
   ]
  },
  {
   "cell_type": "code",
   "execution_count": 11,
   "metadata": {
    "scrolled": false
   },
   "outputs": [
    {
     "data": {
      "text/html": [
       "<div>\n",
       "<style scoped>\n",
       "    .dataframe tbody tr th:only-of-type {\n",
       "        vertical-align: middle;\n",
       "    }\n",
       "\n",
       "    .dataframe tbody tr th {\n",
       "        vertical-align: top;\n",
       "    }\n",
       "\n",
       "    .dataframe thead th {\n",
       "        text-align: right;\n",
       "    }\n",
       "</style>\n",
       "<table border=\"1\" class=\"dataframe\">\n",
       "  <thead>\n",
       "    <tr style=\"text-align: right;\">\n",
       "      <th></th>\n",
       "      <th>ACID</th>\n",
       "      <th>Elap_Time</th>\n",
       "      <th>Lat</th>\n",
       "      <th>Lon</th>\n",
       "      <th>Alt</th>\n",
       "    </tr>\n",
       "  </thead>\n",
       "  <tbody>\n",
       "    <tr>\n",
       "      <th>0</th>\n",
       "      <td>UAL386</td>\n",
       "      <td>2013-01-01 01:08:00</td>\n",
       "      <td>29.983333</td>\n",
       "      <td>-95.300000</td>\n",
       "      <td>8</td>\n",
       "    </tr>\n",
       "    <tr>\n",
       "      <th>1</th>\n",
       "      <td>UAL386</td>\n",
       "      <td>2013-01-01 01:09:00</td>\n",
       "      <td>30.016667</td>\n",
       "      <td>-95.266667</td>\n",
       "      <td>26</td>\n",
       "    </tr>\n",
       "    <tr>\n",
       "      <th>2</th>\n",
       "      <td>UAL386</td>\n",
       "      <td>2013-01-01 01:11:00</td>\n",
       "      <td>30.166667</td>\n",
       "      <td>-95.233333</td>\n",
       "      <td>86</td>\n",
       "    </tr>\n",
       "  </tbody>\n",
       "</table>\n",
       "</div>"
      ],
      "text/plain": [
       "     ACID           Elap_Time        Lat        Lon  Alt\n",
       "0  UAL386 2013-01-01 01:08:00  29.983333 -95.300000    8\n",
       "1  UAL386 2013-01-01 01:09:00  30.016667 -95.266667   26\n",
       "2  UAL386 2013-01-01 01:11:00  30.166667 -95.233333   86"
      ]
     },
     "execution_count": 11,
     "metadata": {},
     "output_type": "execute_result"
    }
   ],
   "source": [
    "tracks.head(3)"
   ]
  },
  {
   "cell_type": "code",
   "execution_count": 12,
   "metadata": {},
   "outputs": [
    {
     "name": "stdout",
     "output_type": "stream",
     "text": [
      "Unique flights: ['UAL386' 'UAL1295' 'UAL593']\n"
     ]
    }
   ],
   "source": [
    "print('Unique flights:', tracks.ACID.unique())"
   ]
  },
  {
   "cell_type": "code",
   "execution_count": 13,
   "metadata": {},
   "outputs": [],
   "source": [
    "def find_crossing_artcc(flight_id, flight_tracks_df, artcc_df):\n",
    "    \"\"\"\n",
    "    Inputs:\n",
    "        flight_id: the flight identifier, e.g., \"UAL386\"\n",
    "        flight_tracks_df: the data frame that contains the flight tracks\n",
    "        artcc_df: the data frame that contains the ARTCC geometry information\n",
    "    Task:\n",
    "        for flight \"flight_id\", find all ARTCCs that it crosses.\n",
    "        for example, flight \"UAL386\" crosses \"ZHU\", \"ZBW\", ..., \"ZNY\"\n",
    "    Return:\n",
    "        a list of all crossing ARTCCs' name\n",
    "        for example: ['ARTCC ZHU', ..., 'ARTCC ZNY']\n",
    "    \"\"\" \n",
    "    # Create the list of points of the plane traject   \n",
    "    df = flight_tracks_df.loc[flight_tracks_df['ACID'] == flight_id, ['Lon', 'Lat', 'Alt']]\n",
    "    List_of_points = df.values.tolist()\n",
    "    \n",
    "    # Create the line string of the plane traject\n",
    "    Line = LineString(List_of_points)\n",
    "    \n",
    "    # Test if the line intersects with an ARTCC\n",
    "    ARTCC_crossed = []\n",
    "    for c in range(0,len(artcc_df)):\n",
    "        poly = Polygon(artcc_df.get('geometry')[c])\n",
    "        i = Line.intersects(poly)\n",
    "        if i == True:\n",
    "            a = artcc_df.get('Name')[c]\n",
    "            ARTCC_crossed.append(a)\n",
    "            \n",
    "    return ARTCC_crossed       "
   ]
  },
  {
   "cell_type": "code",
   "execution_count": 14,
   "metadata": {},
   "outputs": [
    {
     "name": "stdout",
     "output_type": "stream",
     "text": [
      "flight UAL386 crossed:  ['ARTCC ZNY', 'ARTCC ZBW', 'ARTCC ZFW', 'ARTCC ZHU', 'ARTCC ZID', 'ARTCC ZME', 'ARTCC ZOB']\n"
     ]
    }
   ],
   "source": [
    "\"\"\"\n",
    "Some Examples\n",
    "\"\"\"\n",
    "crossed_artcc = find_crossing_artcc(flight_id = 'UAL386', \n",
    "                                    flight_tracks_df = tracks, \n",
    "                                    artcc_df = artcc_df)\n",
    "print('flight UAL386 crossed: ', crossed_artcc)"
   ]
  },
  {
   "cell_type": "code",
   "execution_count": 15,
   "metadata": {},
   "outputs": [
    {
     "name": "stdout",
     "output_type": "stream",
     "text": [
      "flight UAL1295 crossed:  ['ARTCC ZNY', 'ARTCC ZBW', 'ARTCC ZDC', 'ARTCC ZFW', 'ARTCC ZHU', 'ARTCC ZID', 'ARTCC ZME']\n"
     ]
    }
   ],
   "source": [
    "\"\"\"\n",
    "Some Examples\n",
    "\"\"\"\n",
    "crossed_artcc = find_crossing_artcc(flight_id = 'UAL1295', \n",
    "                                    flight_tracks_df = tracks, \n",
    "                                    artcc_df = artcc_df)\n",
    "print('flight UAL1295 crossed: ', crossed_artcc)"
   ]
  },
  {
   "cell_type": "code",
   "execution_count": 16,
   "metadata": {},
   "outputs": [
    {
     "name": "stdout",
     "output_type": "stream",
     "text": [
      "flight UAL593 crossed:  ['ARTCC ZNY', 'ARTCC ZBW', 'ARTCC ZDC', 'ARTCC ZHU', 'ARTCC ZTL']\n"
     ]
    }
   ],
   "source": [
    "\"\"\"\n",
    "Some Examples\n",
    "\"\"\"\n",
    "crossed_artcc = find_crossing_artcc(flight_id = 'UAL593', \n",
    "                                    flight_tracks_df = tracks, \n",
    "                                    artcc_df = artcc_df)\n",
    "print('flight UAL593 crossed: ', crossed_artcc)"
   ]
  },
  {
   "cell_type": "markdown",
   "metadata": {},
   "source": [
    "##### In order\n",
    "We now return the list of crossed ARTCCs in order"
   ]
  },
  {
   "cell_type": "code",
   "execution_count": 17,
   "metadata": {},
   "outputs": [],
   "source": [
    "def find_crossing_artcc_order(flight_id, flight_tracks_df, artcc_df):\n",
    "    \n",
    "    # Create the list of points of the plane traject considering the time\n",
    "    df = flight_tracks_df.loc[flight_tracks_df['ACID'] == flight_id, ['Lon', 'Lat', 'Alt']]\n",
    "    List_of_points = df.values.tolist()\n",
    "    \n",
    "    # Test if the points intersect with an ARTCC\n",
    "    ARTCC_crossed = []\n",
    "    for u in range(0,len(List_of_points)):\n",
    "        for v in range(0,len(artcc_df)):\n",
    "            poly = Polygon(artcc_df.get('geometry')[v])\n",
    "            pt = Point(List_of_points[u])\n",
    "            i = pt.intersects(poly)\n",
    "            if i == True and artcc_df.get('Name')[v] not in ARTCC_crossed:\n",
    "                a = artcc_df.get('Name')[v]\n",
    "                ARTCC_crossed.append(a)\n",
    "                \n",
    "    return ARTCC_crossed "
   ]
  },
  {
   "cell_type": "code",
   "execution_count": 18,
   "metadata": {},
   "outputs": [
    {
     "name": "stdout",
     "output_type": "stream",
     "text": [
      "flight UAL386 crossed:  ['ARTCC ZHU', 'ARTCC ZFW', 'ARTCC ZME', 'ARTCC ZID', 'ARTCC ZOB', 'ARTCC ZNY', 'ARTCC ZBW']\n",
      "flight UAL1295 crossed:  ['ARTCC ZHU', 'ARTCC ZFW', 'ARTCC ZME', 'ARTCC ZID', 'ARTCC ZDC', 'ARTCC ZNY', 'ARTCC ZBW']\n",
      "flight UAL593 crossed:  ['ARTCC ZHU', 'ARTCC ZTL', 'ARTCC ZDC', 'ARTCC ZNY', 'ARTCC ZBW']\n"
     ]
    }
   ],
   "source": [
    "\"\"\"\n",
    "Example\n",
    "\"\"\"\n",
    "\n",
    "crossed_artcc = find_crossing_artcc_order(flight_id = 'UAL386', \n",
    "                                         flight_tracks_df = tracks, \n",
    "                                         artcc_df = artcc_df)\n",
    "print('flight UAL386 crossed: ', crossed_artcc)\n",
    "\n",
    "crossed_artcc = find_crossing_artcc_order(flight_id = 'UAL1295', \n",
    "                                          flight_tracks_df = tracks, \n",
    "                                          artcc_df = artcc_df)\n",
    "print('flight UAL1295 crossed: ', crossed_artcc)\n",
    "\n",
    "crossed_artcc = find_crossing_artcc_order(flight_id = 'UAL593', \n",
    "                                          flight_tracks_df = tracks, \n",
    "                                          artcc_df = artcc_df)\n",
    "print('flight UAL593 crossed: ', crossed_artcc)"
   ]
  },
  {
   "cell_type": "code",
   "execution_count": null,
   "metadata": {},
   "outputs": [],
   "source": []
  }
 ],
 "metadata": {
  "kernelspec": {
   "display_name": "Python 3",
   "language": "python",
   "name": "python3"
  },
  "language_info": {
   "codemirror_mode": {
    "name": "ipython",
    "version": 3
   },
   "file_extension": ".py",
   "mimetype": "text/x-python",
   "name": "python",
   "nbconvert_exporter": "python",
   "pygments_lexer": "ipython3",
   "version": "3.6.8"
  }
 },
 "nbformat": 4,
 "nbformat_minor": 2
}
